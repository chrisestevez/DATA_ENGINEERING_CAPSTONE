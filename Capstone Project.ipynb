{
 "cells": [
  {
   "cell_type": "code",
   "execution_count": 3,
   "id": "dbf705cc-8d68-483e-acca-e589baaa6567",
   "metadata": {
    "tags": []
   },
   "outputs": [],
   "source": [
    "import pandas as pd\n",
    "import seaborn as sns\n",
    "import matplotlib.pyplot as plt\n",
    "from pyspark.sql import SparkSession\n",
    "import pyspark.sql.functions as F\n",
    "sns.set(rc={'figure.figsize':(10,7)})\n",
    "sns.set(font_scale=1)\n",
    "sns.set_style(\"whitegrid\")\n",
    "\n",
    "spark = SparkSession.builder.appName(\"incident_app\").getOrCreate()\n",
    "# sc = spark.sparkContext"
   ]
  },
  {
   "cell_type": "markdown",
   "id": "03de40d2-b6aa-47a1-bfde-eeac908a2f87",
   "metadata": {
    "tags": []
   },
   "source": [
    "### Functions"
   ]
  },
  {
   "cell_type": "code",
   "execution_count": 128,
   "id": "708ca02f-d2df-4e15-98c0-f859daf326cc",
   "metadata": {
    "tags": []
   },
   "outputs": [],
   "source": [
    "def hist_plot(df:pd.DataFrame, column:str, font=10)->None:\n",
    "    f, (ax_box, ax_hist) = plt.subplots(2, sharex=True, gridspec_kw={\"height_ratios\": (.15, .85)})\n",
    "    sns.boxplot(df[column], ax=ax_box,orient=\"h\")\n",
    "    sns.histplot(data=df, x=column, ax=ax_hist)\n",
    "    ax_box.set(xlabel='')\n",
    "    plt.xticks(rotation=45 ,fontsize=font)\n",
    "    plt.show()"
   ]
  },
  {
   "cell_type": "code",
   "execution_count": 30,
   "id": "ec1a5fdf-08c9-4e6e-a33e-94b7384d2490",
   "metadata": {
    "tags": []
   },
   "outputs": [
    {
     "data": {
      "text/html": [
       "\n",
       "            <div>\n",
       "                <p><b>SparkSession - in-memory</b></p>\n",
       "                \n",
       "        <div>\n",
       "            <p><b>SparkContext</b></p>\n",
       "\n",
       "            <p><a href=\"http://d9f36f6a08fd:4040\">Spark UI</a></p>\n",
       "\n",
       "            <dl>\n",
       "              <dt>Version</dt>\n",
       "                <dd><code>v3.3.1</code></dd>\n",
       "              <dt>Master</dt>\n",
       "                <dd><code>local[*]</code></dd>\n",
       "              <dt>AppName</dt>\n",
       "                <dd><code>incident_app</code></dd>\n",
       "            </dl>\n",
       "        </div>\n",
       "        \n",
       "            </div>\n",
       "        "
      ],
      "text/plain": [
       "<pyspark.sql.session.SparkSession at 0x7ff568645420>"
      ]
     },
     "execution_count": 30,
     "metadata": {},
     "output_type": "execute_result"
    }
   ],
   "source": [
    "spark"
   ]
  },
  {
   "cell_type": "markdown",
   "id": "6658a521-dbd1-4587-ba7a-473c780dd03c",
   "metadata": {},
   "source": [
    "# Step 1: Scope the Project and Gather Data\n",
    "\n",
    "Vision Zero is a fictitious non-profit organization that advocates for road safety and aims to eliminate traffic fatalities and severe injuries. The organization operates on the principle that all traffic accidents are preventable, and it seeks to promote a holistic approach to road safety that encompasses engineering, education, and enforcement. Vision Zero advocates for the redesign of streets and roadways to prioritize the safety of pedestrians, cyclists, and motorists. Additionally, the organization promotes the adoption of policies that reduce speeding, improve traffic enforcement, and increase public awareness of road safety issues. Through its initiatives, Vision Zero is working to create safer streets and reduce the number of traffic-related injuries and fatalities. The organization has been successful in many cities around the world, and its model has been adopted by numerous governments and organizations as a framework for improving road safety.\n",
    "\n",
    "Data plays a critical role in reducing vehicle accidents. With the advancements in technology, vehicles are now equipped with sensors and cameras that collect data about the surrounding environment and the behavior of other drivers. This data can be analyzed to identify potential hazards and predict the likelihood of accidents. Additionally, data on driver behavior, such as speeding, distracted driving, and fatigue, can be used to identify patterns and develop targeted interventions to address these issues. Furthermore, data on road infrastructure, weather conditions, and traffic patterns can help identify areas with a higher risk of accidents and prioritize safety improvements. By leveraging data in these ways, we can develop more effective strategies for reducing vehicle accidents and improving road safety for everyone.\n",
    "\n",
    "The scope of the project is to use data from NYC Open data regarding Motor Vehicle Collisions - Crashes and weather data obtained vai the noaa weather API. The Motor Vehicle Collision data contains a total 1 Million data points and the noaa data has weather for these data points. The data will be prepared with the goal to be used in analytics to help further the mission of Vision Zero.\n",
    "\n",
    "The architecture goal for the project is to design a robust and scalable Data Lake that can efficiently handle large volumes of data. The Data Lake will be created using a combination of Docker, Spark, and Python, which will enable fast and reliable processing of the data. The data will be ingested from a storage bucket and processed using Docker containers, which can be easily scaled up or down depending on the processing needs. The processed data will be stored in the form of Parquet files in the destination folder, which can be easily accessed and analyzed by downstream applications. To optimize costs, the Docker containers can be disabled after processing the data, which will help in reducing the technology costs associated with the project. Overall, the architecture design will help in creating an efficient and cost-effective Data Lake that can support the needs of the business\n",
    "\n",
    "## Data Fields\n",
    "\n",
    "### [Motor Vehicle Collisions - Crashes](https://data.cityofnewyork.us/Public-Safety/Motor-Vehicle-Collisions-Crashes/h9gi-nx95)\n",
    "\n",
    "**CRASH DATE** - Occurrence date of collision Date\n",
    "\n",
    "**CRASH TIME** - Occurrence time of collision Time\n",
    "\n",
    "**BOROUGH** - Borough where collision occurred Plain Text\n",
    "\n",
    "**ZIP CODE** - Postal code of incident occurrence Plain Text\n",
    "\n",
    "**LATITUDE** - Latitude coordinate for Global Coordinate System, WGS 1984, decimal degrees (EPSG 4326) Number\n",
    "\n",
    "**LONGITUDE** - Longitude coordinate for Global Coordinate System, WGS 1984, decimal degrees (EPSG 4326) Number\n",
    "\n",
    "**LOCATION** - Latitude , Longitude pair Location\n",
    "\n",
    "**ON STREET NAME** - Street on which the collision occurred Plain Text\n",
    "\n",
    "**CROSS STREET NAME** - Nearest cross street to the collision Plain Text\n",
    "\n",
    "**OFF STREET NAME** - Street address if known Plain Text\n",
    "\n",
    "**NUMBER OF PERSONS INJURED** - Number of persons injured Number\n",
    "\n",
    "**NUMBER OF PERSONS KILLED** - Number of persons killed Number\n",
    "\n",
    "**NUMBER OF PEDESTRIANS INJURED** - Number of pedestrians injured Number\n",
    "\n",
    "**NUMBER OF PEDESTRIANS KILLED** - Number of pedestrians killed Number\n",
    "\n",
    "**NUMBER OF CYCLIST INJURED** - Number of cyclists injured Number\n",
    "\n",
    "**NUMBER OF CYCLIST KILLED** - Number of cyclists killed Number\n",
    "\n",
    "**NUMBER OF MOTORIST INJURED** - Number of vehicle occupants injured Number\n",
    "\n",
    "**NUMBER OF MOTORIST KILLED** - Number of vehicle occupants killed Number\n",
    "\n",
    "**CONTRIBUTING FACTOR VEHICLE 1** - Factors contributing to the collision for designated vehicle Plain Text\n",
    "\n",
    "**CONTRIBUTING FACTOR VEHICLE 2** - Factors contributing to the collision for designated vehicle Plain Text\n",
    "\n",
    "**CONTRIBUTING FACTOR VEHICLE 3** - Factors contributing to the collision for designated vehicle Plain Text\n",
    "\n",
    "**CONTRIBUTING FACTOR VEHICLE 4** - Factors contributing to the collision for designated vehicle Plain Text\n",
    "\n",
    "**CONTRIBUTING FACTOR VEHICLE 5** - Factors contributing to the collision for designated vehicle Plain Text\n",
    "\n",
    "**COLLISION_ID** - Unique record code generated by system. Primary Key for Crash table. Number\n",
    "\n",
    "**VEHICLE TYPE CODE 1** - Type of vehicle based on the selected vehicle category (ATV, bicycle, car/suv, ebike, escooter, truck/bus, motorcycle, other) Plain Text\n",
    "\n",
    "**VEHICLE TYPE CODE 2** - Type of vehicle based on the selected vehicle category (ATV, bicycle, car/suv, ebike, escooter, truck/bus, motorcycle, other) Plain Text\n",
    "\n",
    "**VEHICLE TYPE CODE 3** - Type of vehicle based on the selected vehicle category (ATV, bicycle, car/suv, ebike, escooter, truck/bus, motorcycle, other) Plain Text\n",
    "\n",
    "**VEHICLE TYPE CODE 4** - Type of vehicle based on the selected vehicle category (ATV, bicycle, car/suv, ebike, escooter, truck/bus, motorcycle, other) Plain Text\n",
    "\n",
    "**VEHICLE TYPE CODE 5** - Type of vehicle based on the selected vehicle category (ATV, bicycle, car/suv, ebike, escooter, truck/bus, motorcycle, other) Plain Text"
   ]
  },
  {
   "cell_type": "code",
   "execution_count": 3,
   "id": "dc02cd02-4ac6-4617-94c0-c71f24f5137c",
   "metadata": {
    "tags": []
   },
   "outputs": [],
   "source": [
    "# rdd = sc.parallelize(range(100 + 1))\n",
    "# rdd.sum()"
   ]
  },
  {
   "cell_type": "markdown",
   "id": "ed329bbb-183d-4ee9-9a14-0448cee92f16",
   "metadata": {},
   "source": [
    "# Step 2: Explore and Assess the Data\n",
    "    \n",
    "## Motor Vehicle Collisions Data"
   ]
  },
  {
   "cell_type": "markdown",
   "id": "e96847f1-fe4e-4341-8957-67897d2d4dbf",
   "metadata": {},
   "source": [
    "* Loaded file Motor Vehicle Collisions - Crashes\n",
    "* A total of 2,103 files exist\n",
    "* Each file contains collisions from a particular date"
   ]
  },
  {
   "cell_type": "code",
   "execution_count": 4,
   "id": "91fd2fd6-ad50-4cd1-a65f-1942990ac0b8",
   "metadata": {
    "tags": []
   },
   "outputs": [],
   "source": [
    "motor_df = spark.read.option(\"delimiter\", \",\").option(\"header\", True).option(\"inferSchema\", \"true\").option(\"nanValue\", \"null\",).csv(\"./data/staging_collision\")"
   ]
  },
  {
   "cell_type": "markdown",
   "id": "43c0e52a-30ef-4147-bb04-5ff1d32b1fe2",
   "metadata": {},
   "source": [
    "* Explored data infer Schema"
   ]
  },
  {
   "cell_type": "code",
   "execution_count": 5,
   "id": "fa95692d-b542-434d-be42-edb7f8709ead",
   "metadata": {
    "tags": []
   },
   "outputs": [
    {
     "name": "stdout",
     "output_type": "stream",
     "text": [
      "root\n",
      " |-- CRASH DATE: timestamp (nullable = true)\n",
      " |-- CRASH TIME: timestamp (nullable = true)\n",
      " |-- BOROUGH: string (nullable = true)\n",
      " |-- ZIP CODE: double (nullable = true)\n",
      " |-- LATITUDE: double (nullable = true)\n",
      " |-- LONGITUDE: double (nullable = true)\n",
      " |-- LOCATION: string (nullable = true)\n",
      " |-- ON STREET NAME: string (nullable = true)\n",
      " |-- CROSS STREET NAME: string (nullable = true)\n",
      " |-- OFF STREET NAME: string (nullable = true)\n",
      " |-- NUMBER OF PERSONS INJURED: double (nullable = true)\n",
      " |-- NUMBER OF PERSONS KILLED: double (nullable = true)\n",
      " |-- NUMBER OF PEDESTRIANS INJURED: integer (nullable = true)\n",
      " |-- NUMBER OF PEDESTRIANS KILLED: integer (nullable = true)\n",
      " |-- NUMBER OF CYCLIST INJURED: integer (nullable = true)\n",
      " |-- NUMBER OF CYCLIST KILLED: integer (nullable = true)\n",
      " |-- NUMBER OF MOTORIST INJURED: integer (nullable = true)\n",
      " |-- NUMBER OF MOTORIST KILLED: integer (nullable = true)\n",
      " |-- CONTRIBUTING FACTOR VEHICLE 1: string (nullable = true)\n",
      " |-- CONTRIBUTING FACTOR VEHICLE 2: string (nullable = true)\n",
      " |-- CONTRIBUTING FACTOR VEHICLE 3: string (nullable = true)\n",
      " |-- CONTRIBUTING FACTOR VEHICLE 4: string (nullable = true)\n",
      " |-- CONTRIBUTING FACTOR VEHICLE 5: string (nullable = true)\n",
      " |-- COLLISION_ID: integer (nullable = true)\n",
      " |-- VEHICLE TYPE CODE 1: string (nullable = true)\n",
      " |-- VEHICLE TYPE CODE 2: string (nullable = true)\n",
      " |-- VEHICLE TYPE CODE 3: string (nullable = true)\n",
      " |-- VEHICLE TYPE CODE 4: string (nullable = true)\n",
      " |-- VEHICLE TYPE CODE 5: string (nullable = true)\n",
      "\n"
     ]
    }
   ],
   "source": [
    "motor_df.printSchema()"
   ]
  },
  {
   "cell_type": "markdown",
   "id": "5868f133-8bd2-41ec-81c3-2ab5ed9a277b",
   "metadata": {},
   "source": [
    "* View the shape of the data"
   ]
  },
  {
   "cell_type": "code",
   "execution_count": 6,
   "id": "351af9c2-41bc-4626-b4db-2ee7a14657d2",
   "metadata": {
    "tags": []
   },
   "outputs": [
    {
     "name": "stdout",
     "output_type": "stream",
     "text": [
      "(1000184, 29)\n"
     ]
    }
   ],
   "source": [
    "print((motor_df.count(), len(motor_df.columns)))"
   ]
  },
  {
   "cell_type": "markdown",
   "id": "e046c5f5-9464-47b4-9cce-c81af9225189",
   "metadata": {},
   "source": [
    "* First 2 records from the data"
   ]
  },
  {
   "cell_type": "code",
   "execution_count": 7,
   "id": "f140ad4f-ada9-4f26-a725-a67eaa3727d7",
   "metadata": {
    "tags": []
   },
   "outputs": [
    {
     "name": "stdout",
     "output_type": "stream",
     "text": [
      "-RECORD 0---------------------------------------------\n",
      " CRASH DATE                    | 2018-11-15 00:00:00  \n",
      " CRASH TIME                    | 2023-03-21 18:04:00  \n",
      " BOROUGH                       | BRONX                \n",
      " ZIP CODE                      | 10463.0              \n",
      " LATITUDE                      | 40.880135            \n",
      " LONGITUDE                     | -73.903946           \n",
      " LOCATION                      | (40.880135, -73.9... \n",
      " ON STREET NAME                | WEST 232 STREET  ... \n",
      " CROSS STREET NAME             | BROADWAY             \n",
      " OFF STREET NAME               | null                 \n",
      " NUMBER OF PERSONS INJURED     | 1.0                  \n",
      " NUMBER OF PERSONS KILLED      | 0.0                  \n",
      " NUMBER OF PEDESTRIANS INJURED | 0                    \n",
      " NUMBER OF PEDESTRIANS KILLED  | 0                    \n",
      " NUMBER OF CYCLIST INJURED     | 0                    \n",
      " NUMBER OF CYCLIST KILLED      | 0                    \n",
      " NUMBER OF MOTORIST INJURED    | 1                    \n",
      " NUMBER OF MOTORIST KILLED     | 0                    \n",
      " CONTRIBUTING FACTOR VEHICLE 1 | Unspecified          \n",
      " CONTRIBUTING FACTOR VEHICLE 2 | Unspecified          \n",
      " CONTRIBUTING FACTOR VEHICLE 3 | null                 \n",
      " CONTRIBUTING FACTOR VEHICLE 4 | null                 \n",
      " CONTRIBUTING FACTOR VEHICLE 5 | null                 \n",
      " COLLISION_ID                  | 4026845              \n",
      " VEHICLE TYPE CODE 1           | Sedan                \n",
      " VEHICLE TYPE CODE 2           | Sedan                \n",
      " VEHICLE TYPE CODE 3           | null                 \n",
      " VEHICLE TYPE CODE 4           | null                 \n",
      " VEHICLE TYPE CODE 5           | null                 \n",
      "-RECORD 1---------------------------------------------\n",
      " CRASH DATE                    | 2018-11-15 00:00:00  \n",
      " CRASH TIME                    | 2023-03-21 08:00:00  \n",
      " BOROUGH                       | QUEENS               \n",
      " ZIP CODE                      | 11420.0              \n",
      " LATITUDE                      | 40.667736            \n",
      " LONGITUDE                     | -73.826614           \n",
      " LOCATION                      | (40.667736, -73.8... \n",
      " ON STREET NAME                | 150 AVENUE       ... \n",
      " CROSS STREET NAME             | 114 PLACE            \n",
      " OFF STREET NAME               | null                 \n",
      " NUMBER OF PERSONS INJURED     | 0.0                  \n",
      " NUMBER OF PERSONS KILLED      | 0.0                  \n",
      " NUMBER OF PEDESTRIANS INJURED | 0                    \n",
      " NUMBER OF PEDESTRIANS KILLED  | 0                    \n",
      " NUMBER OF CYCLIST INJURED     | 0                    \n",
      " NUMBER OF CYCLIST KILLED      | 0                    \n",
      " NUMBER OF MOTORIST INJURED    | 0                    \n",
      " NUMBER OF MOTORIST KILLED     | 0                    \n",
      " CONTRIBUTING FACTOR VEHICLE 1 | Unsafe Speed         \n",
      " CONTRIBUTING FACTOR VEHICLE 2 | Failure to Yield ... \n",
      " CONTRIBUTING FACTOR VEHICLE 3 | null                 \n",
      " CONTRIBUTING FACTOR VEHICLE 4 | null                 \n",
      " CONTRIBUTING FACTOR VEHICLE 5 | null                 \n",
      " COLLISION_ID                  | 4021388              \n",
      " VEHICLE TYPE CODE 1           | Sedan                \n",
      " VEHICLE TYPE CODE 2           | Sedan                \n",
      " VEHICLE TYPE CODE 3           | null                 \n",
      " VEHICLE TYPE CODE 4           | null                 \n",
      " VEHICLE TYPE CODE 5           | null                 \n",
      "only showing top 2 rows\n",
      "\n"
     ]
    }
   ],
   "source": [
    "motor_df.show(n=2,vertical=True)"
   ]
  },
  {
   "cell_type": "markdown",
   "id": "bdf49546-8cbb-4517-9c4a-1a7f0652aa37",
   "metadata": {},
   "source": [
    "* identified columns not needed for final output "
   ]
  },
  {
   "cell_type": "code",
   "execution_count": 8,
   "id": "823f98ac-b219-4f64-9943-aeb1eb9247a4",
   "metadata": {
    "tags": []
   },
   "outputs": [],
   "source": [
    "cols_to_drop = ('LOCATION',\n",
    "                'NUMBER OF PEDESTRIANS INJURED',\n",
    "                'NUMBER OF PEDESTRIANS KILLED',\n",
    "                'NUMBER OF CYCLIST INJURED',\n",
    "                'NUMBER OF CYCLIST KILLED',\n",
    "                'NUMBER OF MOTORIST INJURED',\n",
    "                'NUMBER OF MOTORIST KILLED',\n",
    "                'CONTRIBUTING FACTOR VEHICLE 1',\n",
    "                'CONTRIBUTING FACTOR VEHICLE 2',\n",
    "                'CONTRIBUTING FACTOR VEHICLE 3',\n",
    "                'CONTRIBUTING FACTOR VEHICLE 4',\n",
    "                'CONTRIBUTING FACTOR VEHICLE 5',\n",
    "                'VEHICLE TYPE CODE 1',\n",
    "                'VEHICLE TYPE CODE 2',\n",
    "                'VEHICLE TYPE CODE 3',\n",
    "                'VEHICLE TYPE CODE 4',\n",
    "                'VEHICLE TYPE CODE 5')"
   ]
  },
  {
   "cell_type": "markdown",
   "id": "dac7b92a-5d4f-4063-97e7-f0d5a23533bd",
   "metadata": {},
   "source": [
    "* Dropped unwanted columns\n",
    "* Cache data to improve performance "
   ]
  },
  {
   "cell_type": "code",
   "execution_count": 9,
   "id": "cb61a7d2-359c-4402-bf15-33903285e0f6",
   "metadata": {
    "tags": []
   },
   "outputs": [],
   "source": [
    "motor_df = motor_df.drop(*cols_to_drop)\n",
    "motor_df = motor_df.cache()"
   ]
  },
  {
   "cell_type": "code",
   "execution_count": 10,
   "id": "da5fcd2d-b718-41f4-ba1f-cb265e461eb4",
   "metadata": {
    "tags": []
   },
   "outputs": [
    {
     "data": {
      "text/plain": [
       "True"
      ]
     },
     "execution_count": 10,
     "metadata": {},
     "output_type": "execute_result"
    }
   ],
   "source": [
    "motor_df.is_cached"
   ]
  },
  {
   "cell_type": "code",
   "execution_count": 11,
   "id": "c8dbd0be-e88b-4459-a15a-46b82c85acd5",
   "metadata": {
    "tags": []
   },
   "outputs": [
    {
     "name": "stdout",
     "output_type": "stream",
     "text": [
      "+-------------------+-------------------+--------+--------+---------+----------+--------------------+-----------------+--------------------+-------------------------+------------------------+------------+\n",
      "|         CRASH DATE|         CRASH TIME| BOROUGH|ZIP CODE| LATITUDE| LONGITUDE|      ON STREET NAME|CROSS STREET NAME|     OFF STREET NAME|NUMBER OF PERSONS INJURED|NUMBER OF PERSONS KILLED|COLLISION_ID|\n",
      "+-------------------+-------------------+--------+--------+---------+----------+--------------------+-----------------+--------------------+-------------------------+------------------------+------------+\n",
      "|2018-11-15 00:00:00|2023-03-21 18:04:00|   BRONX| 10463.0|40.880135|-73.903946|WEST 232 STREET  ...|         BROADWAY|                null|                      1.0|                     0.0|     4026845|\n",
      "|2018-11-15 00:00:00|2023-03-21 08:00:00|  QUEENS| 11420.0|40.667736|-73.826614|150 AVENUE       ...|        114 PLACE|                null|                      0.0|                     0.0|     4021388|\n",
      "|2018-11-15 00:00:00|2023-03-21 17:45:00|   BRONX| 10465.0|40.832546|-73.827835|                null|             null|3433      EAST TR...|                      0.0|                     0.0|     4021641|\n",
      "|2018-11-15 00:00:00|2023-03-21 09:00:00|  QUEENS| 11360.0| 40.77878|-73.782875|KENNEDY STREET   ...|        23 AVENUE|                null|                      0.0|                     0.0|     4028699|\n",
      "|2018-11-15 00:00:00|2023-03-21 18:20:00|BROOKLYN| 11216.0|40.676243| -73.95269|ROGERS AVENUE    ...|    BERGEN STREET|                null|                      1.0|                     0.0|     4028140|\n",
      "+-------------------+-------------------+--------+--------+---------+----------+--------------------+-----------------+--------------------+-------------------------+------------------------+------------+\n",
      "only showing top 5 rows\n",
      "\n"
     ]
    }
   ],
   "source": [
    "motor_df.show(n=5)"
   ]
  },
  {
   "cell_type": "code",
   "execution_count": 12,
   "id": "1bc082c9-92c1-4e0a-9dcc-7fafccb9f144",
   "metadata": {
    "tags": []
   },
   "outputs": [
    {
     "name": "stdout",
     "output_type": "stream",
     "text": [
      "root\n",
      " |-- CRASH DATE: timestamp (nullable = true)\n",
      " |-- CRASH TIME: timestamp (nullable = true)\n",
      " |-- BOROUGH: string (nullable = true)\n",
      " |-- ZIP CODE: double (nullable = true)\n",
      " |-- LATITUDE: double (nullable = true)\n",
      " |-- LONGITUDE: double (nullable = true)\n",
      " |-- ON STREET NAME: string (nullable = true)\n",
      " |-- CROSS STREET NAME: string (nullable = true)\n",
      " |-- OFF STREET NAME: string (nullable = true)\n",
      " |-- NUMBER OF PERSONS INJURED: double (nullable = true)\n",
      " |-- NUMBER OF PERSONS KILLED: double (nullable = true)\n",
      " |-- COLLISION_ID: integer (nullable = true)\n",
      "\n"
     ]
    }
   ],
   "source": [
    "motor_df.printSchema()"
   ]
  },
  {
   "cell_type": "markdown",
   "id": "88d775ca-09fc-4341-af0c-61492f18739f",
   "metadata": {},
   "source": [
    "* Summarised data to identify inconsistencies\n",
    "* Noticed the LONGITUDE value to be high\n",
    "* Symbols exist in strings\n",
    "* Characters have inconsistent lower & upper casing"
   ]
  },
  {
   "cell_type": "code",
   "execution_count": 13,
   "id": "0656ebc7-dd7f-4d06-8f4a-69ab06454967",
   "metadata": {
    "tags": []
   },
   "outputs": [
    {
     "data": {
      "text/html": [
       "<div>\n",
       "<style scoped>\n",
       "    .dataframe tbody tr th:only-of-type {\n",
       "        vertical-align: middle;\n",
       "    }\n",
       "\n",
       "    .dataframe tbody tr th {\n",
       "        vertical-align: top;\n",
       "    }\n",
       "\n",
       "    .dataframe thead th {\n",
       "        text-align: right;\n",
       "    }\n",
       "</style>\n",
       "<table border=\"1\" class=\"dataframe\">\n",
       "  <thead>\n",
       "    <tr style=\"text-align: right;\">\n",
       "      <th></th>\n",
       "      <th>summary</th>\n",
       "      <th>BOROUGH</th>\n",
       "      <th>ZIP CODE</th>\n",
       "      <th>LATITUDE</th>\n",
       "      <th>LONGITUDE</th>\n",
       "      <th>ON STREET NAME</th>\n",
       "      <th>CROSS STREET NAME</th>\n",
       "      <th>OFF STREET NAME</th>\n",
       "      <th>NUMBER OF PERSONS INJURED</th>\n",
       "      <th>NUMBER OF PERSONS KILLED</th>\n",
       "      <th>COLLISION_ID</th>\n",
       "    </tr>\n",
       "  </thead>\n",
       "  <tbody>\n",
       "    <tr>\n",
       "      <th>0</th>\n",
       "      <td>count</td>\n",
       "      <td>641434</td>\n",
       "      <td>641262</td>\n",
       "      <td>928440</td>\n",
       "      <td>928440</td>\n",
       "      <td>755103</td>\n",
       "      <td>482567</td>\n",
       "      <td>243830</td>\n",
       "      <td>1000167</td>\n",
       "      <td>1000154</td>\n",
       "      <td>1000184</td>\n",
       "    </tr>\n",
       "    <tr>\n",
       "      <th>1</th>\n",
       "      <td>mean</td>\n",
       "      <td>None</td>\n",
       "      <td>10870.685632393624</td>\n",
       "      <td>40.58503933664225</td>\n",
       "      <td>-73.67599343850819</td>\n",
       "      <td>411.0</td>\n",
       "      <td>93.89791666666667</td>\n",
       "      <td>None</td>\n",
       "      <td>0.32012053986984174</td>\n",
       "      <td>0.0014887707293076867</td>\n",
       "      <td>4048827.8008596417</td>\n",
       "    </tr>\n",
       "    <tr>\n",
       "      <th>2</th>\n",
       "      <td>stddev</td>\n",
       "      <td>None</td>\n",
       "      <td>540.9621835212948</td>\n",
       "      <td>2.3862603017588206</td>\n",
       "      <td>4.53260513073638</td>\n",
       "      <td>689.1352948046231</td>\n",
       "      <td>359.11480146864636</td>\n",
       "      <td>None</td>\n",
       "      <td>0.700930930816675</td>\n",
       "      <td>0.04087208863829598</td>\n",
       "      <td>289831.0833395077</td>\n",
       "    </tr>\n",
       "    <tr>\n",
       "      <th>3</th>\n",
       "      <td>min</td>\n",
       "      <td>BRONX</td>\n",
       "      <td>10000.0</td>\n",
       "      <td>0.0</td>\n",
       "      <td>-201.35999</td>\n",
       "      <td>Maspeth Avenue</td>\n",
       "      <td>Broadway</td>\n",
       "      <td>55-17     92nd Street</td>\n",
       "      <td>0.0</td>\n",
       "      <td>0.0</td>\n",
       "      <td>3511951</td>\n",
       "    </tr>\n",
       "    <tr>\n",
       "      <th>4</th>\n",
       "      <td>max</td>\n",
       "      <td>STATEN ISLAND</td>\n",
       "      <td>11697.0</td>\n",
       "      <td>41.12615</td>\n",
       "      <td>0.0</td>\n",
       "      <td>zarega  avuenue</td>\n",
       "      <td>�ST 138 STREET</td>\n",
       "      <td>west street</td>\n",
       "      <td>31.0</td>\n",
       "      <td>8.0</td>\n",
       "      <td>4550397</td>\n",
       "    </tr>\n",
       "  </tbody>\n",
       "</table>\n",
       "</div>"
      ],
      "text/plain": [
       "  summary        BOROUGH            ZIP CODE            LATITUDE  \\\n",
       "0   count         641434              641262              928440   \n",
       "1    mean           None  10870.685632393624   40.58503933664225   \n",
       "2  stddev           None   540.9621835212948  2.3862603017588206   \n",
       "3     min          BRONX             10000.0                 0.0   \n",
       "4     max  STATEN ISLAND             11697.0            41.12615   \n",
       "\n",
       "            LONGITUDE                    ON STREET NAME   CROSS STREET NAME  \\\n",
       "0              928440                            755103              482567   \n",
       "1  -73.67599343850819                             411.0   93.89791666666667   \n",
       "2    4.53260513073638                 689.1352948046231  359.11480146864636   \n",
       "3          -201.35999   Maspeth Avenue                             Broadway   \n",
       "4                 0.0  zarega  avuenue                      �ST 138 STREET   \n",
       "\n",
       "                            OFF STREET NAME NUMBER OF PERSONS INJURED  \\\n",
       "0                                    243830                   1000167   \n",
       "1                                      None       0.32012053986984174   \n",
       "2                                      None         0.700930930816675   \n",
       "3   55-17     92nd Street                                         0.0   \n",
       "4  west street                                                   31.0   \n",
       "\n",
       "  NUMBER OF PERSONS KILLED        COLLISION_ID  \n",
       "0                  1000154             1000184  \n",
       "1    0.0014887707293076867  4048827.8008596417  \n",
       "2      0.04087208863829598   289831.0833395077  \n",
       "3                      0.0             3511951  \n",
       "4                      8.0             4550397  "
      ]
     },
     "execution_count": 13,
     "metadata": {},
     "output_type": "execute_result"
    }
   ],
   "source": [
    "summary_df = motor_df.describe().toPandas()\n",
    "summary_df"
   ]
  },
  {
   "cell_type": "markdown",
   "id": "4289f2ea-baec-4005-820c-4969af184bf8",
   "metadata": {},
   "source": [
    "* Sampled data to see the consistency and formatting\n",
    "* Data has spacing issues\n",
    "* BOROUGH is not complete"
   ]
  },
  {
   "cell_type": "code",
   "execution_count": 14,
   "id": "258970ef-1811-48ee-b472-697424521e80",
   "metadata": {
    "tags": []
   },
   "outputs": [
    {
     "name": "stdout",
     "output_type": "stream",
     "text": [
      "****************************************************************************************************\n",
      "************************************************** BOROUGH **************************************************\n",
      "[None, 'QUEENS', 'BROOKLYN', 'BRONX', 'MANHATTAN', 'STATEN ISLAND']\n"
     ]
    }
   ],
   "source": [
    "categorical_columns = ['BOROUGH']\n",
    "for col in categorical_columns:\n",
    "    print(\"*\"*100)\n",
    "    print(\"*\"*50,col,\"*\"*50)\n",
    "    print(motor_df.select(col).distinct().rdd.map(lambda r: r[0]).collect())"
   ]
  },
  {
   "cell_type": "code",
   "execution_count": 15,
   "id": "65d6a7b5-f14d-4c43-b064-f1a886da3fb6",
   "metadata": {
    "tags": []
   },
   "outputs": [
    {
     "name": "stdout",
     "output_type": "stream",
     "text": [
      "****************************************************************************************************\n",
      "************************************************** ON STREET NAME **************************************************\n",
      "                      ON STREET NAME\n",
      "0   NEPTUNE AVENUE                  \n",
      "1   OCEAN PARKWAY                   \n",
      "2                               None\n",
      "3   29 STREET                       \n",
      "4   VANDERBILT AVENUE               \n",
      "5                               None\n",
      "6                               None\n",
      "7   ROGERS AVENUE                   \n",
      "8   BROOKLYN QUEENS EXPRESSWAY      \n",
      "9   WEST BROADWAY                   \n",
      "10                              None\n",
      "11  WEST 112 STREET                 \n",
      "12                              None\n",
      "13  EAST 103 STREET                 \n",
      "14                              None\n",
      "15                              None\n",
      "16  WEST FINGERBOARD ROAD           \n",
      "17                              None\n",
      "18  2 AVENUE                        \n",
      "19  LAFAYETTE AVENUE                \n",
      "20  188 STREET                      \n",
      "21  WEST SHORE EXPRESSWAY           \n",
      "22  BUSHWICK AVENUE                 \n",
      "23  NARROWS ROAD NORTH              \n",
      "24                              None\n",
      "25                              None\n",
      "26                              None\n",
      "27                              None\n",
      "28  NAGLE AVENUE                    \n",
      "29  7 AVENUE                        \n",
      "30  MORRIS AVENUE                   \n",
      "31                              None\n",
      "32                              None\n",
      "33  CROSS ISLAND PARKWAY            \n",
      "34  6 AVENUE                        \n",
      "35                              None\n",
      "36  49 STREET                       \n",
      "37                              None\n",
      "38  ROCKAWAY PARKWAY                \n",
      "39                    WICKHAM AVENUE\n",
      "40  CHURCH AVENUE                   \n",
      "41                              None\n",
      "42            LONG ISLAND EXPRESSWAY\n",
      "43                              None\n",
      "44  BROOKLYN BRIDGE                 \n",
      "45  EAST 161 STREET                 \n",
      "46                              None\n",
      "47                         23 AVENUE\n",
      "48                    EAST 51 STREET\n",
      "****************************************************************************************************\n",
      "************************************************** CROSS STREET NAME **************************************************\n",
      "     CROSS STREET NAME\n",
      "0     STILLWELL AVENUE\n",
      "1                 None\n",
      "2                 None\n",
      "3                 None\n",
      "4      ATLANTIC AVENUE\n",
      "5                 None\n",
      "6                 None\n",
      "7   SAINT MARKS AVENUE\n",
      "8                 None\n",
      "9                 None\n",
      "10                None\n",
      "11    MANHATTAN AVENUE\n",
      "12                None\n",
      "13            1 AVENUE\n",
      "14                None\n",
      "15                None\n",
      "16      STEUBEN STREET\n",
      "17                None\n",
      "18       EAST 5 STREET\n",
      "19       EDISON AVENUE\n",
      "20     MIDLAND PARKWAY\n",
      "21                None\n",
      "22                None\n",
      "23       TARGEE STREET\n",
      "24                None\n",
      "25                None\n",
      "26                None\n",
      "27                None\n",
      "28      ACADEMY STREET\n",
      "29      WEST 26 STREET\n",
      "30                None\n",
      "31                None\n",
      "32                None\n",
      "33          201 STREET\n",
      "34           61 STREET\n",
      "35                None\n",
      "36            4 AVENUE\n",
      "37                None\n",
      "38          LENOX ROAD\n",
      "39        BURKE AVENUE\n",
      "40        RALPH AVENUE\n",
      "41                None\n",
      "42                None\n",
      "43                None\n",
      "44                None\n",
      "45  MACOMBS DAM BRIDGE\n",
      "46                None\n",
      "47                None\n",
      "48    FLATLANDS AVENUE\n",
      "****************************************************************************************************\n",
      "************************************************** OFF STREET NAME **************************************************\n",
      "                             OFF STREET NAME\n",
      "0                                       None\n",
      "1                                       None\n",
      "2   943       EAST 78 STREET                \n",
      "3                                       None\n",
      "4                                       None\n",
      "5   108       KINGSBOROUGH 1 WALK           \n",
      "6   240-21    WELLER AVENUE                 \n",
      "7                                       None\n",
      "8                                       None\n",
      "9                                       None\n",
      "10  84-16     ASTORIA BOULEVARD             \n",
      "11                                      None\n",
      "12  196       ALLEN STREET                  \n",
      "13                                      None\n",
      "14  97        HANSON PLACE                  \n",
      "15  715       BROADWAY                      \n",
      "16                                      None\n",
      "17  25-33     90 STREET                     \n",
      "18                                      None\n",
      "19                                      None\n",
      "20                                      None\n",
      "21                                      None\n",
      "22                                      None\n",
      "23                                      None\n",
      "24  245       WEST 29 STREET                \n",
      "25  249       VAN SICKLEN STREET            \n",
      "26  3765      BARNES AVENUE                 \n",
      "27  854       EAGLE AVENUE                  \n",
      "28                                      None\n",
      "29                                      None\n",
      "30                                      None\n",
      "31  125       BARCLAY STREET                \n",
      "32  173-57    103 ROAD                      \n",
      "33                                      None\n",
      "34                                      None\n",
      "35  2417      HOLLERS AVENUE                \n",
      "36                                      None\n",
      "37                 2201      HAVILAND AVENUE\n",
      "38                                      None\n",
      "39                                      None\n",
      "40                                      None\n",
      "41                 1014      BROOKLYN AVENUE\n",
      "42                                      None\n",
      "43                 82        DIVISION AVENUE\n",
      "44                                      None\n",
      "45                                      None\n",
      "46                    386       AMBOY STREET\n",
      "47                                      None\n",
      "48                                      None\n"
     ]
    }
   ],
   "source": [
    "for col in ['ON STREET NAME','CROSS STREET NAME','OFF STREET NAME']:\n",
    "    print(\"*\"*100)\n",
    "    print(\"*\"*50, col,\"*\"*50)\n",
    "    result = motor_df[[col]].sample(fraction=0.0001/2, seed=143).toPandas()\n",
    "    print(result)"
   ]
  },
  {
   "cell_type": "markdown",
   "id": "2b527889-a732-45ce-9eb9-36eb878f84fb",
   "metadata": {},
   "source": [
    "* Identified null across all columns"
   ]
  },
  {
   "cell_type": "code",
   "execution_count": 16,
   "id": "bfc789a3-0c3e-40a9-a28d-cc2fa39fcf19",
   "metadata": {
    "tags": []
   },
   "outputs": [
    {
     "name": "stdout",
     "output_type": "stream",
     "text": [
      "************************************************** CRASH DATE **************************************************\n",
      "CRASH DATE \t null values:  0\n",
      "************************************************** CRASH TIME **************************************************\n",
      "CRASH TIME \t null values:  0\n",
      "************************************************** BOROUGH **************************************************\n",
      "BOROUGH \t null values:  358750\n",
      "************************************************** ZIP CODE **************************************************\n",
      "ZIP CODE \t null values:  358922\n",
      "************************************************** LATITUDE **************************************************\n",
      "LATITUDE \t null values:  71744\n",
      "************************************************** LONGITUDE **************************************************\n",
      "LONGITUDE \t null values:  71744\n",
      "************************************************** ON STREET NAME **************************************************\n",
      "ON STREET NAME \t null values:  245081\n",
      "************************************************** CROSS STREET NAME **************************************************\n",
      "CROSS STREET NAME \t null values:  517617\n",
      "************************************************** OFF STREET NAME **************************************************\n",
      "OFF STREET NAME \t null values:  756354\n",
      "************************************************** NUMBER OF PERSONS INJURED **************************************************\n",
      "NUMBER OF PERSONS INJURED \t null values:  17\n",
      "************************************************** NUMBER OF PERSONS KILLED **************************************************\n",
      "NUMBER OF PERSONS KILLED \t null values:  30\n",
      "************************************************** COLLISION_ID **************************************************\n",
      "COLLISION_ID \t null values:  0\n"
     ]
    }
   ],
   "source": [
    "for col in motor_df.columns:\n",
    "    print(\"*\"*50, col, \"*\"*50)\n",
    "    print(col, \"\\t\", \"null values: \", motor_df.filter(motor_df[col].isNull()).count())"
   ]
  },
  {
   "cell_type": "markdown",
   "id": "af80d417-e6de-48a1-8cc5-566012d0cc4c",
   "metadata": {},
   "source": [
    "* The valid range of latitude in degrees is -90 and +90\n",
    "* Longitude is in the range -180 and +180\n",
    "* Noticed that LONGITUDE values with max greater than 180"
   ]
  },
  {
   "cell_type": "code",
   "execution_count": 17,
   "id": "54fcfaea-a461-457f-9832-af8c69085202",
   "metadata": {
    "tags": []
   },
   "outputs": [
    {
     "name": "stdout",
     "output_type": "stream",
     "text": [
      "+---------+----------+\n",
      "| LATITUDE| LONGITUDE|\n",
      "+---------+----------+\n",
      "|40.854286|-201.35999|\n",
      "+---------+----------+\n",
      "\n"
     ]
    }
   ],
   "source": [
    "motor_df.filter((motor_df[\"LONGITUDE\"]==-201.35999)).select([\"LATITUDE\",\"LONGITUDE\"]).show()"
   ]
  },
  {
   "cell_type": "markdown",
   "id": "a49af8e2-0d02-444e-81da-328936b095bb",
   "metadata": {},
   "source": [
    "* Data points with cordinates of 0 LATITUDE & LONGITUDE exist and can lead to mapping unwanted cordinates"
   ]
  },
  {
   "cell_type": "code",
   "execution_count": 18,
   "id": "52ea51f5-cc9d-4c02-9679-e690dd2bbcc6",
   "metadata": {
    "tags": []
   },
   "outputs": [
    {
     "name": "stdout",
     "output_type": "stream",
     "text": [
      "+--------+---------+\n",
      "|LATITUDE|LONGITUDE|\n",
      "+--------+---------+\n",
      "|     0.0|      0.0|\n",
      "|     0.0|      0.0|\n",
      "|     0.0|      0.0|\n",
      "|     0.0|      0.0|\n",
      "|     0.0|      0.0|\n",
      "+--------+---------+\n",
      "only showing top 5 rows\n",
      "\n"
     ]
    }
   ],
   "source": [
    "motor_df.filter((motor_df[\"LATITUDE\"]==0)&(motor_df[\"LONGITUDE\"]==0)).select([\"LATITUDE\",\"LONGITUDE\"]).show(n=5)"
   ]
  },
  {
   "cell_type": "markdown",
   "id": "a5454ecf-b03b-4a27-a6eb-fb78ecab44c3",
   "metadata": {},
   "source": [
    "* Collisions that do not contain injuries and fatalities exist within the data set"
   ]
  },
  {
   "cell_type": "code",
   "execution_count": 19,
   "id": "586985dd-2a1b-4ec0-8716-f190227b6158",
   "metadata": {
    "tags": []
   },
   "outputs": [
    {
     "name": "stdout",
     "output_type": "stream",
     "text": [
      "+-------------------------+------------------------+\n",
      "|NUMBER OF PERSONS INJURED|NUMBER OF PERSONS KILLED|\n",
      "+-------------------------+------------------------+\n",
      "|                      0.0|                     0.0|\n",
      "|                      0.0|                     0.0|\n",
      "|                      0.0|                     0.0|\n",
      "|                      0.0|                     0.0|\n",
      "|                      0.0|                     0.0|\n",
      "+-------------------------+------------------------+\n",
      "only showing top 5 rows\n",
      "\n"
     ]
    }
   ],
   "source": [
    "motor_df.filter((motor_df[\"NUMBER OF PERSONS INJURED\"]==0)&(motor_df[\"NUMBER OF PERSONS KILLED\"]==0)).select([\"NUMBER OF PERSONS INJURED\",\"NUMBER OF PERSONS KILLED\"]).show(n=5)"
   ]
  },
  {
   "cell_type": "markdown",
   "id": "2b9fef59-dee3-4982-9f75-69b7f082a2ae",
   "metadata": {},
   "source": [
    "* Majority of the PERSONS INJURED is zero & nulls are present\n",
    "* Most of the data falls within 0-5 injuries\n",
    "* nulls need to be replaced with 0"
   ]
  },
  {
   "cell_type": "code",
   "execution_count": 20,
   "id": "91ecb753-484c-4541-aeb2-e033d02b28d9",
   "metadata": {
    "tags": []
   },
   "outputs": [],
   "source": [
    "plot_data = motor_df[\"NUMBER OF PERSONS INJURED\",\"NUMBER OF PERSONS KILLED\"].toPandas()"
   ]
  },
  {
   "cell_type": "code",
   "execution_count": 21,
   "id": "fc68b934-2f41-4a5a-97d8-b832829d9590",
   "metadata": {
    "tags": []
   },
   "outputs": [
    {
     "data": {
      "image/png": "[encoded data removed]",
      "text/plain": [
       "<Figure size 1000x700 with 2 Axes>"
      ]
     },
     "metadata": {},
     "output_type": "display_data"
    }
   ],
   "source": [
    "hist_plot(plot_data, column=\"NUMBER OF PERSONS INJURED\")"
   ]
  },
  {
   "cell_type": "code",
   "execution_count": 22,
   "id": "b66d7ae5-5f56-40fa-9c1b-e86b93087322",
   "metadata": {
    "tags": []
   },
   "outputs": [
    {
     "name": "stdout",
     "output_type": "stream",
     "text": [
      "+-------------------------+------+\n",
      "|NUMBER OF PERSONS INJURED| count|\n",
      "+-------------------------+------+\n",
      "|                      0.0|763251|\n",
      "|                      1.0|183635|\n",
      "|                      2.0| 35228|\n",
      "|                      3.0| 11218|\n",
      "|                      4.0|  4150|\n",
      "|                      5.0|  1574|\n",
      "|                      6.0|   602|\n",
      "|                      7.0|   252|\n",
      "|                      8.0|   113|\n",
      "|                      9.0|    44|\n",
      "|                     10.0|    32|\n",
      "|                     11.0|    18|\n",
      "|                     null|    17|\n",
      "|                     12.0|    12|\n",
      "|                     13.0|     9|\n",
      "|                     15.0|     6|\n",
      "|                     14.0|     5|\n",
      "|                     17.0|     4|\n",
      "|                     16.0|     4|\n",
      "|                     18.0|     3|\n",
      "+-------------------------+------+\n",
      "only showing top 20 rows\n",
      "\n"
     ]
    }
   ],
   "source": [
    "motor_df.groupBy('NUMBER OF PERSONS INJURED').count().orderBy('count', ascending=False).show()"
   ]
  },
  {
   "cell_type": "markdown",
   "id": "5b45b4a9-b9b2-440e-9a4f-b5a84449f131",
   "metadata": {},
   "source": [
    "* A person with a fatality is a rare event\n",
    "* Maximum values is 8\n",
    "* nulls need to be replaced with 0"
   ]
  },
  {
   "cell_type": "code",
   "execution_count": 23,
   "id": "4bdaa120-0737-4d6d-99e9-b336e38ecdf6",
   "metadata": {
    "tags": []
   },
   "outputs": [
    {
     "data": {
      "image/png": "[encoded data removed]",
      "text/plain": [
       "<Figure size 1000x700 with 2 Axes>"
      ]
     },
     "metadata": {},
     "output_type": "display_data"
    }
   ],
   "source": [
    "hist_plot(plot_data, column=\"NUMBER OF PERSONS KILLED\")"
   ]
  },
  {
   "cell_type": "code",
   "execution_count": 24,
   "id": "63fadc46-de7a-428e-a37b-d7c2664e397a",
   "metadata": {
    "tags": []
   },
   "outputs": [
    {
     "name": "stdout",
     "output_type": "stream",
     "text": [
      "+------------------------+------+\n",
      "|NUMBER OF PERSONS KILLED| count|\n",
      "+------------------------+------+\n",
      "|                     0.0|998724|\n",
      "|                     1.0|  1387|\n",
      "|                     2.0|    34|\n",
      "|                    null|    30|\n",
      "|                     3.0|     6|\n",
      "|                     4.0|     2|\n",
      "|                     8.0|     1|\n",
      "+------------------------+------+\n",
      "\n"
     ]
    }
   ],
   "source": [
    "motor_df.groupBy('NUMBER OF PERSONS KILLED').count().orderBy('count', ascending=False).show()"
   ]
  },
  {
   "cell_type": "markdown",
   "id": "c36dcbbc-fd76-4507-800c-d8b963122b1f",
   "metadata": {},
   "source": [
    "* Check if COLLISION_ID has duplicates and was not the case"
   ]
  },
  {
   "cell_type": "code",
   "execution_count": 25,
   "id": "bf69e094-0475-4e0f-aee9-3537c6d71195",
   "metadata": {
    "tags": []
   },
   "outputs": [
    {
     "name": "stdout",
     "output_type": "stream",
     "text": [
      "+------------+-----+\n",
      "|COLLISION_ID|count|\n",
      "+------------+-----+\n",
      "+------------+-----+\n",
      "\n"
     ]
    }
   ],
   "source": [
    "motor_df.groupby(['COLLISION_ID']) \\\n",
    "    .count() \\\n",
    "    .where('count > 1') \\\n",
    "    .sort('count', ascending=False) \\\n",
    "    .show()"
   ]
  },
  {
   "cell_type": "markdown",
   "id": "07fcd504-c047-494e-ab1a-8395395bf30c",
   "metadata": {
    "tags": []
   },
   "source": [
    "* Steps that will be implemented to clean string data\n",
    "* trim white spaces\n",
    "* Encode data to remove unwanted characters\n",
    "* Remove punctuation"
   ]
  },
  {
   "cell_type": "code",
   "execution_count": 26,
   "id": "0693473f-9fdd-4d0d-bcf2-89b6927025b3",
   "metadata": {
    "tags": []
   },
   "outputs": [
    {
     "name": "stdout",
     "output_type": "stream",
     "text": [
      "+-----------------+\n",
      "|CROSS STREET NAME|\n",
      "+-----------------+\n",
      "|         BROADWAY|\n",
      "|        114 PLACE|\n",
      "|             null|\n",
      "|        23 AVENUE|\n",
      "|    BERGEN STREET|\n",
      "+-----------------+\n",
      "only showing top 5 rows\n",
      "\n"
     ]
    }
   ],
   "source": [
    "#Text columns\n",
    "motor_df\\\n",
    ".withColumn(\"CROSS STREET NAME\", F.trim(F.col(\"CROSS STREET NAME\")))\\\n",
    ".withColumn(\"CROSS STREET NAME\",F.encode(F.col(\"CROSS STREET NAME\"),\"US-ASCII\") )\\\n",
    ".withColumn(\"CROSS STREET NAME\",F.decode(F.col(\"CROSS STREET NAME\"),\"US-ASCII\") )\\\n",
    ".withColumn(\"CROSS STREET NAME\", F.upper(F.regexp_replace(F.col(\"CROSS STREET NAME\"), \"[^a-zA-Z\\\\s0-9]\", \"\"))).select([\"CROSS STREET NAME\"]).show(n=5)"
   ]
  },
  {
   "cell_type": "markdown",
   "id": "462ab58e-014e-40f3-908f-e925f4159468",
   "metadata": {},
   "source": [
    "* Date & Time information will be extracted for the creation of new columns"
   ]
  },
  {
   "cell_type": "code",
   "execution_count": 27,
   "id": "5d857f13-68bd-41df-ad84-1e3b1ac19f3c",
   "metadata": {
    "tags": []
   },
   "outputs": [
    {
     "name": "stdout",
     "output_type": "stream",
     "text": [
      "+-------------------+-------------------+----+-----+----------+----+------+\n",
      "|         CRASH DATE|         CRASH TIME|year|month|dayofmonth|hour|minute|\n",
      "+-------------------+-------------------+----+-----+----------+----+------+\n",
      "|2018-11-15 00:00:00|2023-03-21 18:04:00|2018|   11|        15|  18|     4|\n",
      "|2018-11-15 00:00:00|2023-03-21 08:00:00|2018|   11|        15|   8|     0|\n",
      "|2018-11-15 00:00:00|2023-03-21 17:45:00|2018|   11|        15|  17|    45|\n",
      "|2018-11-15 00:00:00|2023-03-21 09:00:00|2018|   11|        15|   9|     0|\n",
      "|2018-11-15 00:00:00|2023-03-21 18:20:00|2018|   11|        15|  18|    20|\n",
      "+-------------------+-------------------+----+-----+----------+----+------+\n",
      "only showing top 5 rows\n",
      "\n"
     ]
    }
   ],
   "source": [
    "#Date information\n",
    "motor_df.withColumn(\"year\", F.year(F.col(\"CRASH DATE\")))\\\n",
    ".withColumn(\"month\", F.month(F.col(\"CRASH DATE\")))\\\n",
    ".withColumn(\"dayofmonth\", F.dayofmonth(F.col(\"CRASH DATE\")))\\\n",
    ".withColumn(\"hour\", F.hour(F.col(\"CRASH TIME\")))\\\n",
    ".withColumn(\"minute\", F.minute(F.col(\"CRASH TIME\"))).select([\"CRASH DATE\",\"CRASH TIME\",\"year\",\"month\",\"dayofmonth\",\"hour\",\"minute\"]).show(n=5)"
   ]
  },
  {
   "cell_type": "markdown",
   "id": "576cad51-f257-4273-84e0-898885bbee10",
   "metadata": {},
   "source": [
    "* The null values of injuries & fatalities will be replaced with 0"
   ]
  },
  {
   "cell_type": "code",
   "execution_count": 28,
   "id": "d7c2bb4f-cb99-4b00-a62a-cd59108973b5",
   "metadata": {
    "tags": []
   },
   "outputs": [],
   "source": [
    "# fix numeric\n",
    "clean_data = motor_df.withColumn('NUMBER OF PERSONS INJURED', F.coalesce(F.col('NUMBER OF PERSONS INJURED').cast('int'), F.lit(0)))\\\n",
    ".withColumn('NUMBER OF PERSONS KILLED', F.coalesce(F.col('NUMBER OF PERSONS KILLED').cast('int'), F.lit(0)))"
   ]
  },
  {
   "cell_type": "markdown",
   "id": "c955aaab-fe42-4b21-adad-b4c96b385e95",
   "metadata": {},
   "source": [
    "* LATITUDE values outside the acceptable range will be converted to null"
   ]
  },
  {
   "cell_type": "code",
   "execution_count": 29,
   "id": "bf326534-6e91-49b8-801e-10b6b9454fb8",
   "metadata": {
    "tags": []
   },
   "outputs": [
    {
     "data": {
      "text/html": [
       "<div>\n",
       "<style scoped>\n",
       "    .dataframe tbody tr th:only-of-type {\n",
       "        vertical-align: middle;\n",
       "    }\n",
       "\n",
       "    .dataframe tbody tr th {\n",
       "        vertical-align: top;\n",
       "    }\n",
       "\n",
       "    .dataframe thead th {\n",
       "        text-align: right;\n",
       "    }\n",
       "</style>\n",
       "<table border=\"1\" class=\"dataframe\">\n",
       "  <thead>\n",
       "    <tr style=\"text-align: right;\">\n",
       "      <th></th>\n",
       "      <th>summary</th>\n",
       "      <th>LATITUDE</th>\n",
       "    </tr>\n",
       "  </thead>\n",
       "  <tbody>\n",
       "    <tr>\n",
       "      <th>0</th>\n",
       "      <td>count</td>\n",
       "      <td>928440</td>\n",
       "    </tr>\n",
       "    <tr>\n",
       "      <th>1</th>\n",
       "      <td>mean</td>\n",
       "      <td>40.58503933664225</td>\n",
       "    </tr>\n",
       "    <tr>\n",
       "      <th>2</th>\n",
       "      <td>stddev</td>\n",
       "      <td>2.3862603017588206</td>\n",
       "    </tr>\n",
       "    <tr>\n",
       "      <th>3</th>\n",
       "      <td>min</td>\n",
       "      <td>0.0</td>\n",
       "    </tr>\n",
       "    <tr>\n",
       "      <th>4</th>\n",
       "      <td>max</td>\n",
       "      <td>41.12615</td>\n",
       "    </tr>\n",
       "  </tbody>\n",
       "</table>\n",
       "</div>"
      ],
      "text/plain": [
       "  summary            LATITUDE\n",
       "0   count              928440\n",
       "1    mean   40.58503933664225\n",
       "2  stddev  2.3862603017588206\n",
       "3     min                 0.0\n",
       "4     max            41.12615"
      ]
     },
     "execution_count": 29,
     "metadata": {},
     "output_type": "execute_result"
    }
   ],
   "source": [
    "#fix lat lon is -90 and +90\n",
    "motor_df.select(\"LATITUDE\")\\\n",
    ".withColumn(\"LATITUDE\", F.when(((motor_df[\"LATITUDE\"] <-90) | (motor_df[\"LATITUDE\"] >90)), F.lit(None)).otherwise(motor_df[\"LATITUDE\"]))\\\n",
    ".describe().toPandas()"
   ]
  },
  {
   "cell_type": "markdown",
   "id": "9a54bd08-1730-45c3-8cb5-c87b83bf5bb7",
   "metadata": {},
   "source": [
    "* LONGITUDE values outside the acceptable range will be converted to null"
   ]
  },
  {
   "cell_type": "code",
   "execution_count": 30,
   "id": "3af234cd-4b66-4ad7-b142-bc9b9f2a8b0b",
   "metadata": {
    "tags": []
   },
   "outputs": [
    {
     "data": {
      "text/html": [
       "<div>\n",
       "<style scoped>\n",
       "    .dataframe tbody tr th:only-of-type {\n",
       "        vertical-align: middle;\n",
       "    }\n",
       "\n",
       "    .dataframe tbody tr th {\n",
       "        vertical-align: top;\n",
       "    }\n",
       "\n",
       "    .dataframe thead th {\n",
       "        text-align: right;\n",
       "    }\n",
       "</style>\n",
       "<table border=\"1\" class=\"dataframe\">\n",
       "  <thead>\n",
       "    <tr style=\"text-align: right;\">\n",
       "      <th></th>\n",
       "      <th>summary</th>\n",
       "      <th>LONGITUDE</th>\n",
       "    </tr>\n",
       "  </thead>\n",
       "  <tbody>\n",
       "    <tr>\n",
       "      <th>0</th>\n",
       "      <td>count</td>\n",
       "      <td>928339</td>\n",
       "    </tr>\n",
       "    <tr>\n",
       "      <th>1</th>\n",
       "      <td>mean</td>\n",
       "      <td>-73.66211511318447</td>\n",
       "    </tr>\n",
       "    <tr>\n",
       "      <th>2</th>\n",
       "      <td>stddev</td>\n",
       "      <td>4.3331511674755685</td>\n",
       "    </tr>\n",
       "    <tr>\n",
       "      <th>3</th>\n",
       "      <td>min</td>\n",
       "      <td>-74.742</td>\n",
       "    </tr>\n",
       "    <tr>\n",
       "      <th>4</th>\n",
       "      <td>max</td>\n",
       "      <td>0.0</td>\n",
       "    </tr>\n",
       "  </tbody>\n",
       "</table>\n",
       "</div>"
      ],
      "text/plain": [
       "  summary           LONGITUDE\n",
       "0   count              928339\n",
       "1    mean  -73.66211511318447\n",
       "2  stddev  4.3331511674755685\n",
       "3     min             -74.742\n",
       "4     max                 0.0"
      ]
     },
     "execution_count": 30,
     "metadata": {},
     "output_type": "execute_result"
    }
   ],
   "source": [
    "#Longitude is in the range -180 and +180\n",
    "motor_df.select(\"LONGITUDE\")\\\n",
    ".withColumn(\"LONGITUDE\", F.when(((motor_df[\"LONGITUDE\"] <-180) | (motor_df[\"LONGITUDE\"] >180)), F.lit(None)).otherwise(motor_df[\"LONGITUDE\"]))\\\n",
    ".describe().toPandas()"
   ]
  },
  {
   "cell_type": "code",
   "execution_count": 31,
   "id": "1749c6e6-50a7-495f-92b5-5141f3f5dbac",
   "metadata": {
    "tags": []
   },
   "outputs": [
    {
     "name": "stdout",
     "output_type": "stream",
     "text": [
      "+--------+---------+\n",
      "|LATITUDE|LONGITUDE|\n",
      "+--------+---------+\n",
      "|     0.0|      0.0|\n",
      "|     0.0|      0.0|\n",
      "|     0.0|      0.0|\n",
      "|     0.0|      0.0|\n",
      "|     0.0|      0.0|\n",
      "+--------+---------+\n",
      "only showing top 5 rows\n",
      "\n"
     ]
    }
   ],
   "source": [
    "motor_df.filter((motor_df[\"LATITUDE\"]==0)&(motor_df[\"LONGITUDE\"]==0)).select([\"LATITUDE\",\"LONGITUDE\"]).show(n=5)"
   ]
  },
  {
   "cell_type": "markdown",
   "id": "581c4cf4-b08b-413a-9d58-e778af1742a6",
   "metadata": {},
   "source": [
    "* A Categorical column will be created for injuries and collisons \n",
    "  * High - Person killed\n",
    "  * Medium - Injury & no deaths\n",
    "  * Low - Collison with no deaths or injury"
   ]
  },
  {
   "cell_type": "code",
   "execution_count": 32,
   "id": "f267f984-9d6a-40ed-bee0-4ac8d3e50cbe",
   "metadata": {
    "tags": []
   },
   "outputs": [
    {
     "name": "stdout",
     "output_type": "stream",
     "text": [
      "+-------------------------+------------------------+--------------+\n",
      "|NUMBER OF PERSONS INJURED|NUMBER OF PERSONS KILLED|incident_level|\n",
      "+-------------------------+------------------------+--------------+\n",
      "|                      1.0|                     0.0|        Medium|\n",
      "|                      0.0|                     0.0|           Low|\n",
      "|                      0.0|                     0.0|           Low|\n",
      "|                      0.0|                     0.0|           Low|\n",
      "|                      1.0|                     0.0|        Medium|\n",
      "+-------------------------+------------------------+--------------+\n",
      "only showing top 5 rows\n",
      "\n"
     ]
    }
   ],
   "source": [
    "motor_df. \\\n",
    "withColumn('incident_level',\n",
    "        F.when(motor_df['NUMBER OF PERSONS INJURED'] > 0, 'Medium')\\\n",
    "           .when(motor_df['NUMBER OF PERSONS KILLED'] > 0, 'High')\\\n",
    "           .otherwise('Low')).select([\"NUMBER OF PERSONS INJURED\",\"NUMBER OF PERSONS KILLED\",\"incident_level\"]).show(n=5)"
   ]
  },
  {
   "cell_type": "markdown",
   "id": "db521568-0fa6-4a4f-b690-582e773a5b3b",
   "metadata": {},
   "source": [
    "### [NOAA Weather Data](https://www.ncei.noaa.gov/)\n",
    "\n",
    "* Weather Station\n",
    "    * **NAME** - NY CITY CENTRAL PARK, NY US\n",
    "    * **Network:ID** - GHCND:USW00094728\n",
    "\n",
    "**AWND** - Average wind speed Number\n",
    "\n",
    "**DATE** - Date of weather measure Date\n",
    "\n",
    "**PRCP** - Precipitation Number\n",
    "\n",
    "**SNOW** - Snowfall Number\n",
    "\n",
    "**STATION** - Weather Station of observation\n",
    "\n",
    "**TMAX** - Maximum temperature Plain Number\n",
    "\n",
    "**TMIN** - Minimum temperature Number\n",
    "\n",
    "**WT01** - Fog, ice fog, or freezing fog (may include heavy fog) Logical"
   ]
  },
  {
   "cell_type": "markdown",
   "id": "2dedf390-a759-4463-81e5-df4c0fe08b8b",
   "metadata": {},
   "source": [
    "* Started by loading json file obtained via noaa API"
   ]
  },
  {
   "cell_type": "code",
   "execution_count": 84,
   "id": "42dff26f-3393-4517-bb5e-c8f11003cd0e",
   "metadata": {
    "tags": []
   },
   "outputs": [],
   "source": [
    "noaa_df = spark.read.option(\"multiline\", \"true\").option(\"inferSchema\", \"true\").option(\"nanValue\", \"null\",).json(\"./data/staging_weather\")"
   ]
  },
  {
   "cell_type": "code",
   "execution_count": 85,
   "id": "1b522543-6807-45cd-a641-8b2210dafa0f",
   "metadata": {
    "tags": []
   },
   "outputs": [
    {
     "name": "stdout",
     "output_type": "stream",
     "text": [
      "root\n",
      " |-- AWND: string (nullable = true)\n",
      " |-- DATE: string (nullable = true)\n",
      " |-- PRCP: string (nullable = true)\n",
      " |-- SNOW: string (nullable = true)\n",
      " |-- STATION: string (nullable = true)\n",
      " |-- TMAX: string (nullable = true)\n",
      " |-- TMIN: string (nullable = true)\n",
      " |-- WT01: string (nullable = true)\n",
      "\n"
     ]
    }
   ],
   "source": [
    "noaa_df.printSchema()"
   ]
  },
  {
   "cell_type": "markdown",
   "id": "6639af92-f899-4278-9150-22f34b858eb2",
   "metadata": {
    "tags": []
   },
   "source": [
    "* Data dimention"
   ]
  },
  {
   "cell_type": "code",
   "execution_count": 33,
   "id": "ec08984e-e211-4894-943f-c1ea7465fbf4",
   "metadata": {
    "tags": []
   },
   "outputs": [
    {
     "name": "stdout",
     "output_type": "stream",
     "text": [
      "(2102, 8)\n"
     ]
    }
   ],
   "source": [
    "print((noaa_df.count(), len(noaa_df.columns)))"
   ]
  },
  {
   "cell_type": "code",
   "execution_count": 34,
   "id": "d75317db-5ca0-4a45-be02-8ed6e958b24f",
   "metadata": {
    "tags": []
   },
   "outputs": [
    {
     "name": "stdout",
     "output_type": "stream",
     "text": [
      "+----+----------+----+----+-----------+----+----+-----+\n",
      "|AWND|      DATE|PRCP|SNOW|    STATION|TMAX|TMIN| WT01|\n",
      "+----+----------+----+----+-----------+----+----+-----+\n",
      "|8.50|2016-10-23|0.00| 0.0|USW00094728|  61|  45| null|\n",
      "|6.04|2016-10-24|0.00| 0.0|USW00094728|  62|  47| null|\n",
      "|6.49|2016-10-25|0.00| 0.0|USW00094728|  52|  43| null|\n",
      "|4.03|2016-10-26|0.00| 0.0|USW00094728|  51|  38| null|\n",
      "|5.14|2016-10-27|1.41| 0.0|USW00094728|  55|  40|    1|\n",
      "|8.28|2016-10-28|0.00| 0.0|USW00094728|  51|  42|    1|\n",
      "|4.25|2016-10-29|0.00| 0.0|USW00094728|  64|  39| null|\n",
      "|3.80|2016-10-30|0.56| 0.0|USW00094728|  76|  54|    1|\n",
      "|4.92|2016-10-31|0.00| 0.0|USW00094728|  54|  44| null|\n",
      "|3.13|2016-11-01|0.00| 0.0|USW00094728|  58|  40| null|\n",
      "|3.13|2016-11-02|0.00| 0.0|USW00094728|  70|  54| null|\n",
      "|5.14|2016-11-03|0.00| 0.0|USW00094728|  72|  57| null|\n",
      "|4.70|2016-11-04|0.00| 0.0|USW00094728|  61|  47| null|\n",
      "|3.13|2016-11-05|0.00| 0.0|USW00094728|  62|  44| null|\n",
      "|7.61|2016-11-06|0.00| 0.0|USW00094728|  59|  45| null|\n",
      "+----+----------+----+----+-----------+----+----+-----+\n",
      "only showing top 15 rows\n",
      "\n"
     ]
    }
   ],
   "source": [
    "noaa_df.show(n=15)"
   ]
  },
  {
   "cell_type": "markdown",
   "id": "d60515f6-22bd-4763-88a5-038471fd6ca2",
   "metadata": {},
   "source": [
    "* Cashed data to imporve performance"
   ]
  },
  {
   "cell_type": "code",
   "execution_count": 86,
   "id": "5427dabf-71f2-4c4c-a178-009e352cec1d",
   "metadata": {
    "tags": []
   },
   "outputs": [],
   "source": [
    "noaa_df = noaa_df.cache()"
   ]
  },
  {
   "cell_type": "code",
   "execution_count": 36,
   "id": "c0ca7efc-4d5c-412d-a919-ae6acb561d05",
   "metadata": {
    "tags": []
   },
   "outputs": [
    {
     "data": {
      "text/plain": [
       "True"
      ]
     },
     "execution_count": 36,
     "metadata": {},
     "output_type": "execute_result"
    }
   ],
   "source": [
    "noaa_df.is_cached"
   ]
  },
  {
   "cell_type": "markdown",
   "id": "09ecf290-c1e2-4155-baa1-b009276f7ad6",
   "metadata": {},
   "source": [
    "* Data characteristics"
   ]
  },
  {
   "cell_type": "code",
   "execution_count": 10,
   "id": "d10f0e1e-f229-4f05-bc70-82d1c7819ee2",
   "metadata": {
    "tags": []
   },
   "outputs": [
    {
     "data": {
      "text/html": [
       "<div>\n",
       "<style scoped>\n",
       "    .dataframe tbody tr th:only-of-type {\n",
       "        vertical-align: middle;\n",
       "    }\n",
       "\n",
       "    .dataframe tbody tr th {\n",
       "        vertical-align: top;\n",
       "    }\n",
       "\n",
       "    .dataframe thead th {\n",
       "        text-align: right;\n",
       "    }\n",
       "</style>\n",
       "<table border=\"1\" class=\"dataframe\">\n",
       "  <thead>\n",
       "    <tr style=\"text-align: right;\">\n",
       "      <th></th>\n",
       "      <th>summary</th>\n",
       "      <th>AWND</th>\n",
       "      <th>DATE</th>\n",
       "      <th>PRCP</th>\n",
       "      <th>SNOW</th>\n",
       "      <th>STATION</th>\n",
       "      <th>TMAX</th>\n",
       "      <th>TMIN</th>\n",
       "      <th>WT01</th>\n",
       "    </tr>\n",
       "  </thead>\n",
       "  <tbody>\n",
       "    <tr>\n",
       "      <th>0</th>\n",
       "      <td>count</td>\n",
       "      <td>1893</td>\n",
       "      <td>2102</td>\n",
       "      <td>2102</td>\n",
       "      <td>2102</td>\n",
       "      <td>2102</td>\n",
       "      <td>2102</td>\n",
       "      <td>2102</td>\n",
       "      <td>879</td>\n",
       "    </tr>\n",
       "    <tr>\n",
       "      <th>1</th>\n",
       "      <td>mean</td>\n",
       "      <td>5.078235604860014</td>\n",
       "      <td>None</td>\n",
       "      <td>0.14523311132254982</td>\n",
       "      <td>0.07274024738344435</td>\n",
       "      <td>None</td>\n",
       "      <td>62.769743101807805</td>\n",
       "      <td>48.90104662226451</td>\n",
       "      <td>1.0</td>\n",
       "    </tr>\n",
       "    <tr>\n",
       "      <th>2</th>\n",
       "      <td>stddev</td>\n",
       "      <td>2.401446457496862</td>\n",
       "      <td>None</td>\n",
       "      <td>0.3894469624864649</td>\n",
       "      <td>0.6598097371089309</td>\n",
       "      <td>None</td>\n",
       "      <td>17.753274371498282</td>\n",
       "      <td>16.420222636185816</td>\n",
       "      <td>0.0</td>\n",
       "    </tr>\n",
       "    <tr>\n",
       "      <th>3</th>\n",
       "      <td>min</td>\n",
       "      <td>0.00</td>\n",
       "      <td>2016-10-23</td>\n",
       "      <td>0.00</td>\n",
       "      <td>0.0</td>\n",
       "      <td>USW00094728</td>\n",
       "      <td>13</td>\n",
       "      <td>10</td>\n",
       "      <td>1</td>\n",
       "    </tr>\n",
       "    <tr>\n",
       "      <th>4</th>\n",
       "      <td>max</td>\n",
       "      <td>9.84</td>\n",
       "      <td>2022-07-25</td>\n",
       "      <td>7.13</td>\n",
       "      <td>9.8</td>\n",
       "      <td>USW00094728</td>\n",
       "      <td>98</td>\n",
       "      <td>9</td>\n",
       "      <td>1</td>\n",
       "    </tr>\n",
       "  </tbody>\n",
       "</table>\n",
       "</div>"
      ],
      "text/plain": [
       "  summary               AWND        DATE                 PRCP  \\\n",
       "0   count               1893        2102                 2102   \n",
       "1    mean  5.078235604860014        None  0.14523311132254982   \n",
       "2  stddev  2.401446457496862        None   0.3894469624864649   \n",
       "3     min               0.00  2016-10-23                 0.00   \n",
       "4     max               9.84  2022-07-25                 7.13   \n",
       "\n",
       "                  SNOW      STATION                TMAX                TMIN  \\\n",
       "0                 2102         2102                2102                2102   \n",
       "1  0.07274024738344435         None  62.769743101807805   48.90104662226451   \n",
       "2   0.6598097371089309         None  17.753274371498282  16.420222636185816   \n",
       "3                  0.0  USW00094728                  13                  10   \n",
       "4                  9.8  USW00094728                  98                   9   \n",
       "\n",
       "    WT01  \n",
       "0    879  \n",
       "1    1.0  \n",
       "2    0.0  \n",
       "3      1  \n",
       "4      1  "
      ]
     },
     "execution_count": 10,
     "metadata": {},
     "output_type": "execute_result"
    }
   ],
   "source": [
    "noaa_df.describe().toPandas()"
   ]
  },
  {
   "cell_type": "markdown",
   "id": "7ccaa78c-436b-4729-bc80-e2b24aa9c869",
   "metadata": {},
   "source": [
    "* All columns were casted to their appropiate type"
   ]
  },
  {
   "cell_type": "code",
   "execution_count": 120,
   "id": "8745c473-12b8-4a8e-ba78-4da0f81eb9a7",
   "metadata": {
    "tags": []
   },
   "outputs": [],
   "source": [
    "noaa_df = noaa_df.withColumn(\"DATE\",F.to_date(\"DATE\", 'yyyy-MM-dd'))\\\n",
    "    .withColumn(\"WT01\", F.when(F.col(\"WT01\")==1, True).otherwise(False))\\\n",
    "    .withColumn(\"AWND\", F.col(\"AWND\").cast('float'))\\\n",
    "    .withColumn(\"PRCP\", F.col(\"PRCP\").cast('float'))\\\n",
    "    .withColumn(\"PRCP\", F.col(\"PRCP\").cast('float'))\\\n",
    "    .withColumn(\"SNOW\", F.col(\"SNOW\").cast('float'))\\\n",
    "    .withColumn(\"TMIN\",F.col(\"TMIN\").cast('int'))\\\n",
    "    .withColumn(\"TMAX\", F.col(\"TMAX\").cast('int'))"
   ]
  },
  {
   "cell_type": "markdown",
   "id": "54c840e7-bc2b-438e-a146-71ea97c069d5",
   "metadata": {},
   "source": [
    "* Looped over columns to identify nulls\n",
    "* AWND contains 209 nulls and will be replaced with zeros"
   ]
  },
  {
   "cell_type": "code",
   "execution_count": 130,
   "id": "bc43cfeb-c093-4cbe-9cb2-4f7569327ef0",
   "metadata": {
    "tags": []
   },
   "outputs": [
    {
     "name": "stdout",
     "output_type": "stream",
     "text": [
      "************************************************** AWND **************************************************\n",
      "AWND \t null values:  209\n",
      "************************************************** DATE **************************************************\n",
      "DATE \t null values:  0\n",
      "************************************************** PRCP **************************************************\n",
      "PRCP \t null values:  0\n",
      "************************************************** SNOW **************************************************\n",
      "SNOW \t null values:  0\n",
      "************************************************** STATION **************************************************\n",
      "STATION \t null values:  0\n",
      "************************************************** TMAX **************************************************\n",
      "TMAX \t null values:  0\n",
      "************************************************** TMIN **************************************************\n",
      "TMIN \t null values:  0\n",
      "************************************************** WT01 **************************************************\n",
      "WT01 \t null values:  0\n"
     ]
    }
   ],
   "source": [
    "for col in noaa_df.columns:\n",
    "    print(\"*\"*50, col, \"*\"*50)\n",
    "    print(col, \"\\t\", \"null values: \", noaa_df.filter(noaa_df[col].isNull()).count())"
   ]
  },
  {
   "cell_type": "markdown",
   "id": "ce081220-e0f5-4bca-9507-329cce436eb2",
   "metadata": {},
   "source": [
    "* Updated Schema"
   ]
  },
  {
   "cell_type": "code",
   "execution_count": 131,
   "id": "7f1878bd-eb1d-49ef-a4f8-79d468af0c01",
   "metadata": {
    "tags": []
   },
   "outputs": [
    {
     "name": "stdout",
     "output_type": "stream",
     "text": [
      "root\n",
      " |-- AWND: float (nullable = true)\n",
      " |-- DATE: date (nullable = true)\n",
      " |-- PRCP: float (nullable = true)\n",
      " |-- SNOW: float (nullable = true)\n",
      " |-- STATION: string (nullable = true)\n",
      " |-- TMAX: integer (nullable = true)\n",
      " |-- TMIN: integer (nullable = true)\n",
      " |-- WT01: boolean (nullable = false)\n",
      "\n"
     ]
    }
   ],
   "source": [
    "noaa_df.printSchema()"
   ]
  },
  {
   "cell_type": "code",
   "execution_count": 133,
   "id": "39dc47d1-f52b-479d-9678-4793d7e92ca0",
   "metadata": {
    "tags": []
   },
   "outputs": [
    {
     "name": "stdout",
     "output_type": "stream",
     "text": [
      "+----+----------+----+----+-----------+----+----+-----+\n",
      "|AWND|      DATE|PRCP|SNOW|    STATION|TMAX|TMIN| WT01|\n",
      "+----+----------+----+----+-----------+----+----+-----+\n",
      "| 8.5|2016-10-23| 0.0| 0.0|USW00094728|  61|  45|false|\n",
      "|6.04|2016-10-24| 0.0| 0.0|USW00094728|  62|  47|false|\n",
      "|6.49|2016-10-25| 0.0| 0.0|USW00094728|  52|  43|false|\n",
      "|4.03|2016-10-26| 0.0| 0.0|USW00094728|  51|  38|false|\n",
      "|5.14|2016-10-27|1.41| 0.0|USW00094728|  55|  40| true|\n",
      "|8.28|2016-10-28| 0.0| 0.0|USW00094728|  51|  42| true|\n",
      "|4.25|2016-10-29| 0.0| 0.0|USW00094728|  64|  39|false|\n",
      "| 3.8|2016-10-30|0.56| 0.0|USW00094728|  76|  54| true|\n",
      "|4.92|2016-10-31| 0.0| 0.0|USW00094728|  54|  44|false|\n",
      "|3.13|2016-11-01| 0.0| 0.0|USW00094728|  58|  40|false|\n",
      "+----+----------+----+----+-----------+----+----+-----+\n",
      "only showing top 10 rows\n",
      "\n"
     ]
    }
   ],
   "source": [
    "noaa_df.show(n=10)"
   ]
  },
  {
   "cell_type": "markdown",
   "id": "4b78f5d2-a4dc-4d23-a212-6af23fefccd3",
   "metadata": {},
   "source": [
    "* Updated data summary"
   ]
  },
  {
   "cell_type": "code",
   "execution_count": 134,
   "id": "aa629e39-692e-4149-8fee-9f490402bce3",
   "metadata": {
    "tags": []
   },
   "outputs": [
    {
     "data": {
      "text/html": [
       "<div>\n",
       "<style scoped>\n",
       "    .dataframe tbody tr th:only-of-type {\n",
       "        vertical-align: middle;\n",
       "    }\n",
       "\n",
       "    .dataframe tbody tr th {\n",
       "        vertical-align: top;\n",
       "    }\n",
       "\n",
       "    .dataframe thead th {\n",
       "        text-align: right;\n",
       "    }\n",
       "</style>\n",
       "<table border=\"1\" class=\"dataframe\">\n",
       "  <thead>\n",
       "    <tr style=\"text-align: right;\">\n",
       "      <th></th>\n",
       "      <th>summary</th>\n",
       "      <th>AWND</th>\n",
       "      <th>PRCP</th>\n",
       "      <th>SNOW</th>\n",
       "      <th>STATION</th>\n",
       "      <th>TMAX</th>\n",
       "      <th>TMIN</th>\n",
       "    </tr>\n",
       "  </thead>\n",
       "  <tbody>\n",
       "    <tr>\n",
       "      <th>0</th>\n",
       "      <td>count</td>\n",
       "      <td>1893</td>\n",
       "      <td>2102</td>\n",
       "      <td>2102</td>\n",
       "      <td>2102</td>\n",
       "      <td>2102</td>\n",
       "      <td>2102</td>\n",
       "    </tr>\n",
       "    <tr>\n",
       "      <th>1</th>\n",
       "      <td>mean</td>\n",
       "      <td>5.0782356086038</td>\n",
       "      <td>0.14523311082865656</td>\n",
       "      <td>0.07274024746071488</td>\n",
       "      <td>None</td>\n",
       "      <td>62.769743101807805</td>\n",
       "      <td>48.90104662226451</td>\n",
       "    </tr>\n",
       "    <tr>\n",
       "      <th>2</th>\n",
       "      <td>stddev</td>\n",
       "      <td>2.401446450231401</td>\n",
       "      <td>0.389446961694786</td>\n",
       "      <td>0.6598097380849249</td>\n",
       "      <td>None</td>\n",
       "      <td>17.753274371498282</td>\n",
       "      <td>16.420222636185816</td>\n",
       "    </tr>\n",
       "    <tr>\n",
       "      <th>3</th>\n",
       "      <td>min</td>\n",
       "      <td>0.0</td>\n",
       "      <td>0.0</td>\n",
       "      <td>0.0</td>\n",
       "      <td>USW00094728</td>\n",
       "      <td>13</td>\n",
       "      <td>2</td>\n",
       "    </tr>\n",
       "    <tr>\n",
       "      <th>4</th>\n",
       "      <td>max</td>\n",
       "      <td>18.34</td>\n",
       "      <td>7.13</td>\n",
       "      <td>14.8</td>\n",
       "      <td>USW00094728</td>\n",
       "      <td>98</td>\n",
       "      <td>82</td>\n",
       "    </tr>\n",
       "  </tbody>\n",
       "</table>\n",
       "</div>"
      ],
      "text/plain": [
       "  summary               AWND                 PRCP                 SNOW  \\\n",
       "0   count               1893                 2102                 2102   \n",
       "1    mean    5.0782356086038  0.14523311082865656  0.07274024746071488   \n",
       "2  stddev  2.401446450231401    0.389446961694786   0.6598097380849249   \n",
       "3     min                0.0                  0.0                  0.0   \n",
       "4     max              18.34                 7.13                 14.8   \n",
       "\n",
       "       STATION                TMAX                TMIN  \n",
       "0         2102                2102                2102  \n",
       "1         None  62.769743101807805   48.90104662226451  \n",
       "2         None  17.753274371498282  16.420222636185816  \n",
       "3  USW00094728                  13                   2  \n",
       "4  USW00094728                  98                  82  "
      ]
     },
     "execution_count": 134,
     "metadata": {},
     "output_type": "execute_result"
    }
   ],
   "source": [
    "noaa_df.describe().toPandas()"
   ]
  },
  {
   "cell_type": "markdown",
   "id": "305e1616-35b9-40a8-bea7-ede6c68f6a3e",
   "metadata": {},
   "source": [
    "* Data distribution for numeric columns"
   ]
  },
  {
   "cell_type": "code",
   "execution_count": 125,
   "id": "a1c1d66b-8e0a-4e4a-994d-065a496ab258",
   "metadata": {
    "tags": []
   },
   "outputs": [],
   "source": [
    "plot_data = noaa_df[['AWND','PRCP','SNOW','TMAX','TMIN']].toPandas()"
   ]
  },
  {
   "cell_type": "code",
   "execution_count": 129,
   "id": "0affbc36-1fb0-4797-8153-750fdc604968",
   "metadata": {
    "tags": []
   },
   "outputs": [
    {
     "data": {
      "image/png": "[encoded data removed]",
      "text/plain": [
       "<Figure size 1000x700 with 2 Axes>"
      ]
     },
     "metadata": {},
     "output_type": "display_data"
    },
    {
     "data": {
      "image/png": "[encoded data removed]",
      "text/plain": [
       "<Figure size 1000x700 with 2 Axes>"
      ]
     },
     "metadata": {},
     "output_type": "display_data"
    },
    {
     "data": {
      "image/png": "[encoded data removed]",
      "text/plain": [
       "<Figure size 1000x700 with 2 Axes>"
      ]
     },
     "metadata": {},
     "output_type": "display_data"
    },
    {
     "data": {
      "image/png": "[encoded data removed]",
      "text/plain": [
       "<Figure size 1000x700 with 2 Axes>"
      ]
     },
     "metadata": {},
     "output_type": "display_data"
    },
    {
     "data": {
      "image/png": "[encoded data removed]",
      "text/plain": [
       "<Figure size 1000x700 with 2 Axes>"
      ]
     },
     "metadata": {},
     "output_type": "display_data"
    }
   ],
   "source": [
    "for col in plot_data.columns:\n",
    "    hist_plot(plot_data, column=col, font=12)"
   ]
  },
  {
   "cell_type": "markdown",
   "id": "c50f5c9c-b329-4711-b878-a4b20f0b11cc",
   "metadata": {},
   "source": [
    "### Steps to clean data\n",
    "\n",
    "* Replace null in 'AWND'\n",
    "* Extract Year, Month, and Date from 'DATE' column\n",
    "* Create AVG 'AVGTEMP' from 'TMIN' & 'TMAX'"
   ]
  },
  {
   "cell_type": "code",
   "execution_count": null,
   "id": "8da74532-055b-418a-8da6-81b55b337a1a",
   "metadata": {},
   "outputs": [],
   "source": [
    "spark.stop()"
   ]
  },
  {
   "cell_type": "markdown",
   "id": "0c5e2d3c-cfa2-4668-93ea-688f4956f3e2",
   "metadata": {
    "tags": []
   },
   "source": [
    "# Step 3: Define the Data Model\n",
    "## 3.1 Conceptual Data Model\n",
    "The project will set up a Data Lake with the following Schema:\n",
    "\n",
    "### Schema Motor Vehicle Collisions - Crashes\n",
    "\n",
    "|Name |Description|Type|\n",
    "|:-----:|:--------:|:--------:|\n",
    "|borough |Borough where collision occurred|string|\n",
    "|zip_code |Postal code of incident occurrence|integer|\n",
    "|latitude |Latitude coordinate for Global Coordinate System|float|\n",
    "|longitude |Longitude coordinate for Global Coordinate System|float|\n",
    "|on_street_name |Street on which the collision occurred|string|\n",
    "|cross_street_name |Nearest cross street to the collision|string|\n",
    "|off_street_name |Street address if known|string|\n",
    "|number_of_persons_injured |Number of persons injured|integer|\n",
    "|number_of_persons_killed |Number of persons killed|integer|\n",
    "|collision_id |Unique record code generated by system|integer|\n",
    "|crash_date_year|Year number|integer|\n",
    "|crash_date_month|Month number|integer|\n",
    "|crash_date_dayofmonth|Month number|integer|\n",
    "|hour|Hour Number|integer|\n",
    "|minute|Minute Number|integer|\n",
    "|incident_level| Identifies severity of accident|string|\n",
    "|id| record number used to track data quality failures|integer|\n",
    "\n",
    "### Schema NOAA Weather Data\n",
    "\n",
    "|Name |Description|Type|\n",
    "|:-----:|:--------:|:--------:|\n",
    "|awnd |Average wind speed Number|float|\n",
    "|prcp |Precipitation Number|float|\n",
    "|snow |Snowfall Number|float|\n",
    "|station |Weather Station of observation|string |\n",
    "|tmax |Maximum temperature Plain Number|integer|\n",
    "|tmin  |Minimum temperature Number|integer |\n",
    "|wt01 |Fog, ice fog, or freezing fog (may include heavy fog)|boolean|\n",
    "|AVGTEMP|Average of TMIN & TMAX|float|\n",
    "|date_year|Year of weather|integer|\n",
    "|date_month|Month of weather|integer|\n",
    "|date_dayofmonth|Date of weather|integer|\n",
    "|avgtemp| Average of tmin & tmax|float|\n",
    "|id| record number used to track data quality failures|integer|\n",
    "\n",
    "## 3.2 Mapping Out Data Pipelines\n",
    "\n",
    "1. Injest data - using Spark\n",
    "2. Clean data - Will clean data using Spark native function for optimized execution\n",
    "3. Validate data - Will use custom testing class to check various aspects of the data\n",
    "4. Save output - Parquet files for motor & NOAA data\n",
    "5. Extract pipeline metrics - Will check records received, time, throughput, and records processed\n"
   ]
  },
  {
   "cell_type": "code",
   "execution_count": 4,
   "id": "2b9ff850-28c0-4a10-9cf2-76a23562a904",
   "metadata": {
    "tags": []
   },
   "outputs": [],
   "source": [
    "from pyspark.sql import SparkSession\n",
    "from project_lib import ETL\n",
    "from project_lib import TestSparkData\n",
    "from project_lib import Utilities\n",
    "spark = SparkSession.builder.appName(\"incident_data_pipeline\").getOrCreate()"
   ]
  },
  {
   "cell_type": "markdown",
   "id": "dda0844a-19b1-49ae-b6b6-a5c28944aad5",
   "metadata": {},
   "source": [
    "# Step 4: Run ETL to Model the Data"
   ]
  },
  {
   "cell_type": "markdown",
   "id": "381522d2-5833-450d-8085-6d343501e95c",
   "metadata": {},
   "source": [
    "## 4.1 Create the data model"
   ]
  },
  {
   "cell_type": "markdown",
   "id": "ff2bdf1b-83b2-4f06-8c9a-20144087a732",
   "metadata": {},
   "source": [
    "* performs folder checks"
   ]
  },
  {
   "cell_type": "code",
   "execution_count": 5,
   "id": "1cae88b9-b94b-47a4-9a8b-257ffe1fb79f",
   "metadata": {
    "tags": []
   },
   "outputs": [
    {
     "name": "stdout",
     "output_type": "stream",
     "text": [
      "./data/staging_weather/ Exists\n",
      "./data/staging_collision/ Exists\n",
      "./data/output/ Exists\n",
      "./data/output/rejected_records/ Exists\n",
      "./data/log/ Exists\n",
      "All folders contain files\n"
     ]
    }
   ],
   "source": [
    "util = Utilities()\n",
    "util.initialize_project()"
   ]
  },
  {
   "cell_type": "code",
   "execution_count": 2,
   "id": "fa9f1d40-f76f-499f-846f-b41ed470a7bf",
   "metadata": {
    "tags": []
   },
   "outputs": [
    {
     "data": {
      "text/html": [
       "\n",
       "            <div>\n",
       "                <p><b>SparkSession - in-memory</b></p>\n",
       "                \n",
       "        <div>\n",
       "            <p><b>SparkContext</b></p>\n",
       "\n",
       "            <p><a href=\"http://d9f36f6a08fd:4040\">Spark UI</a></p>\n",
       "\n",
       "            <dl>\n",
       "              <dt>Version</dt>\n",
       "                <dd><code>v3.3.1</code></dd>\n",
       "              <dt>Master</dt>\n",
       "                <dd><code>local[*]</code></dd>\n",
       "              <dt>AppName</dt>\n",
       "                <dd><code>incident_data_pipeline</code></dd>\n",
       "            </dl>\n",
       "        </div>\n",
       "        \n",
       "            </div>\n",
       "        "
      ],
      "text/plain": [
       "<pyspark.sql.session.SparkSession at 0x7f08a92381c0>"
      ]
     },
     "execution_count": 2,
     "metadata": {},
     "output_type": "execute_result"
    }
   ],
   "source": [
    "spark"
   ]
  },
  {
   "cell_type": "code",
   "execution_count": 3,
   "id": "6c4620a6-de66-46fc-9d82-67441815755c",
   "metadata": {
    "tags": []
   },
   "outputs": [
    {
     "name": "stdout",
     "output_type": "stream",
     "text": [
      "************************* Motor Collision Data *************************\n",
      "************************* Successful Test *************************\n",
      "test_collision_id_null\n",
      "test_crash_date_year_null\n",
      "test_number_of_persons_injured_null\n",
      "test_number_of_persons_killed_null\n",
      "test_incident_level_null\n",
      "test_collision_id_duplicate\n",
      "test_zip_code_length_5\n",
      "test_latitude_range_-90_90\n",
      "test_longitude_range_-180_180\n",
      "test_number_of_persons_injured_range_0_50\n",
      "test_number_of_persons_killed_range_0_50\n",
      "test_crash_date_month_range_1_12\n",
      "test_crash_date_dayofmonth_range_1_31\n",
      "test_hour_range_0_23\n",
      "test_minute_range_0_60\n",
      "**************************************************\n",
      "************************* NOAA Weather Data *************************\n",
      "************************* Successful Test *************************\n",
      "test_station_null\n",
      "test_wt01_null\n",
      "test_awnd_range_0_25\n",
      "test_prcp_range_0_15\n",
      "test_snow_range_0_25\n",
      "test_tmin_range_0_120\n",
      "test_tmax_range_0_120\n",
      "test_date_month_range_1_12\n",
      "test_date_dayofmonth_range_1_31\n",
      "test_avgtemp_range_0_120\n",
      "**************************************************\n",
      "************************* Pipeline Measures *************************\n",
      "************************* overall_total_time_sec *************************\n",
      "171.42499351501465\n",
      "************************* overall_rows_process_per_sec *************************\n",
      "8472.617351161363\n",
      "************************* mtr_rows_process_per_sec *************************\n",
      "8581.353464218178\n",
      "************************* noa_rows_process_per_sec *************************\n",
      "1718.7468275587394\n",
      "************************* overall_throughput_bytes_per_sec *************************\n",
      "1247874.6920953717\n",
      "************************* overall_throughput_MB_per_sec *************************\n",
      "1.1900660797291007\n",
      "************************* overall_rows_written_per_sec *************************\n",
      "55942.30394899861\n",
      "************************* motor_source_count *************************\n",
      "source 1000184                destination 1000184                values equal            True\n",
      "************************* noaa_source_count *************************\n",
      "source 2102                destination 2102                values equal            True\n"
     ]
    }
   ],
   "source": [
    "pipeline = ETL(spark)\n",
    "pipeline.main()"
   ]
  },
  {
   "cell_type": "markdown",
   "id": "cfcd9c61-416e-4a81-8785-33d5e6d62757",
   "metadata": {},
   "source": [
    "## 4.2 Data Quality Checks\n",
    "\n",
    "* Data quality test are performed by using the `TestSparkData` class\n",
    "* Available test are range_test, null_test, duplicate_test and length_test\n",
    "* Each method takes a list of columns or column value pair to run the test\n",
    "* The class also has methods to evaluate and print results"
   ]
  },
  {
   "cell_type": "code",
   "execution_count": 3,
   "id": "2ffdd1ff-6d4c-43d4-a31e-c675defd7f4e",
   "metadata": {
    "tags": []
   },
   "outputs": [],
   "source": [
    "clean_noa_df = pipeline.clean_noaa_data()"
   ]
  },
  {
   "cell_type": "code",
   "execution_count": 5,
   "id": "7d125c87-7b9c-4567-bb2f-e0213f0e68f1",
   "metadata": {
    "tags": []
   },
   "outputs": [
    {
     "name": "stdout",
     "output_type": "stream",
     "text": [
      "+-----------------+----+----+-----------+----+----+-----+---------+----------+---------------+-------+---+\n",
      "|             awnd|prcp|snow|    station|tmin|tmax| wt01|date_year|date_month|date_dayofmonth|avgtemp| id|\n",
      "+-----------------+----+----+-----------+----+----+-----+---------+----------+---------------+-------+---+\n",
      "|              8.5| 0.0| 0.0|USW00094728|  45|  61|false|     2016|        10|             23|   53.0|  0|\n",
      "|6.039999961853027| 0.0| 0.0|USW00094728|  47|  62|false|     2016|        10|             24|   54.5|  1|\n",
      "|6.489999771118164| 0.0| 0.0|USW00094728|  43|  52|false|     2016|        10|             25|   47.5|  2|\n",
      "| 4.03000020980835| 0.0| 0.0|USW00094728|  38|  51|false|     2016|        10|             26|   44.5|  3|\n",
      "|5.139999866485596|1.41| 0.0|USW00094728|  40|  55| true|     2016|        10|             27|   47.5|  4|\n",
      "+-----------------+----+----+-----------+----+----+-----+---------+----------+---------------+-------+---+\n",
      "only showing top 5 rows\n",
      "\n"
     ]
    }
   ],
   "source": [
    "clean_noa_df.show(n=5)"
   ]
  },
  {
   "cell_type": "code",
   "execution_count": 15,
   "id": "250f2278-52f0-4c22-9f38-7a82dd42c339",
   "metadata": {
    "tags": []
   },
   "outputs": [
    {
     "name": "stdout",
     "output_type": "stream",
     "text": [
      "************************* NOAA Weather Data *************************\n",
      "************************* Successful Test *************************\n",
      "test_station_null\n",
      "test_wt01_null\n",
      "test_awnd_range_0_25\n",
      "test_prcp_range_0_15\n",
      "**************************************************\n"
     ]
    }
   ],
   "source": [
    "noa_null_tst_lst = ['station', 'wt01']\n",
    "\n",
    "noa_range_tst_lst = [('awnd',0, 25), ('prcp',0, 15)]\n",
    "\n",
    "testing = TestSparkData()\n",
    "\n",
    "noa_null_rslt = testing.null_test(clean_noa_df, noa_null_tst_lst)\n",
    "\n",
    "noa_rng_rslt = testing.range_test(clean_noa_df, noa_range_tst_lst)\n",
    "\n",
    "all_noa_test = [noa_null_rslt, noa_rng_rslt]\n",
    "\n",
    "noa_test_results = testing.evaluate_test(spark, all_noa_test)\n",
    "\n",
    "testing.print_test_results(\"NOAA Weather Data\", noa_test_results)"
   ]
  },
  {
   "cell_type": "code",
   "execution_count": null,
   "id": "f98b0586-90b5-48f1-a4bf-fa50455ab170",
   "metadata": {},
   "outputs": [],
   "source": [
    "spark.stop()"
   ]
  },
  {
   "cell_type": "markdown",
   "id": "a9923917-46a3-43f0-ab45-a91646e90c6a",
   "metadata": {},
   "source": [
    "# Step 5: Complete Project Write Up\n",
    "\n",
    "1. Clearly state the rationale for the choice of tools and technologies for the project.\n",
    "    * For this project I used Apache Spark because its ability to scale and ease of use via python. Spark methods allows for manipulation of large amounts of data across clusters of computers and conversion of outputs to various formats such as the parquet files used in the project.\n",
    "2. Propose how often the data should be updated and why.\n",
    "    * The data should be updated daily because the motor collision data is updated in that frequency.\n",
    "3. Write a description of how you would approach the problem differently under the following scenarios:\n",
    "     1. The data was increased by 100x.\n",
    "         * I would use Spark because its ability to scale and add additional resources to complete the job.\n",
    "     2. The data populates a dashboard that must be updated on a daily basis by 7am every day.\n",
    "         * I would implement Apache Airflow and schedule the job to run within time frame.\n",
    "     3. The database needed to be accessed by 100+ people.\n",
    "         * I would split the data or use replication."
   ]
  }
 ],
 "metadata": {
  "kernelspec": {
   "display_name": "Python 3 (ipykernel)",
   "language": "python",
   "name": "python3"
  },
  "language_info": {
   "codemirror_mode": {
    "name": "ipython",
    "version": 3
   },
   "file_extension": ".py",
   "mimetype": "text/x-python",
   "name": "python",
   "nbconvert_exporter": "python",
   "pygments_lexer": "ipython3",
   "version": "3.10.9"
  }
 },
 "nbformat": 4,
 "nbformat_minor": 5
}
